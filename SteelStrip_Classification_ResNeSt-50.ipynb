{
 "cells": [
  {
   "cell_type": "markdown",
   "metadata": {
    "id": "QkXq_gnJEXyf"
   },
   "source": [
    "# Import libraries"
   ]
  },
  {
   "cell_type": "code",
   "execution_count": 1,
   "metadata": {
    "ExecuteTime": {
     "end_time": "2022-12-07T10:12:07.494055Z",
     "start_time": "2022-12-07T10:12:06.275989Z"
    },
    "id": "iabYaOjclJ3U"
   },
   "outputs": [
    {
     "name": "stderr",
     "output_type": "stream",
     "text": [
      "C:\\Users\\USER\\anaconda3\\envs\\Pytorch\\lib\\site-packages\\tqdm\\auto.py:22: TqdmWarning: IProgress not found. Please update jupyter and ipywidgets. See https://ipywidgets.readthedocs.io/en/stable/user_install.html\n",
      "  from .autonotebook import tqdm as notebook_tqdm\n"
     ]
    }
   ],
   "source": [
    "from torch.utils.data import DataLoader, Dataset\n",
    "import torchvision.transforms as T\n",
    "from torchvision.datasets import DatasetFolder, ImageFolder\n",
    "import torch\n",
    "import torch.nn as nn\n",
    "import torch.nn.functional as F\n",
    "import torchvision\n",
    "from torch.utils.data import ConcatDataset, DataLoader, Subset, TensorDataset\n",
    "from torchvision.utils import make_grid\n",
    "from torchvision import transforms\n",
    "from collections import Counter\n",
    "from PIL import Image\n",
    "import torch.optim as optim\n",
    "import matplotlib.pyplot as plt\n",
    "import matplotlib.image as img\n",
    "import numpy as np\n",
    "import pandas as pd\n",
    "import random\n",
    "import os\n",
    "from PIL import Image\n",
    "%matplotlib inline\n",
    "\n",
    "# This is for the progress bar.\n",
    "from tqdm import tqdm\n",
    "# garbage collection\n",
    "import gc"
   ]
  },
  {
   "cell_type": "code",
   "execution_count": 2,
   "metadata": {
    "ExecuteTime": {
     "end_time": "2022-12-07T10:12:07.524429Z",
     "start_time": "2022-12-07T10:12:07.495057Z"
    }
   },
   "outputs": [
    {
     "data": {
      "text/plain": [
       "True"
      ]
     },
     "execution_count": 2,
     "metadata": {},
     "output_type": "execute_result"
    }
   ],
   "source": [
    "torch.cuda.is_available()"
   ]
  },
  {
   "cell_type": "code",
   "execution_count": 3,
   "metadata": {
    "ExecuteTime": {
     "end_time": "2022-12-07T10:12:07.539568Z",
     "start_time": "2022-12-07T10:12:07.524429Z"
    },
    "colab": {
     "base_uri": "https://localhost:8080/"
    },
    "id": "oFPEC82zHev0",
    "outputId": "a1e39095-a61a-4478-c951-3f04f27f8dfd"
   },
   "outputs": [
    {
     "name": "stdout",
     "output_type": "stream",
     "text": [
      "GPU State: cuda:0\n"
     ]
    }
   ],
   "source": [
    "# GPU\n",
    "device = 'cuda:0' if torch.cuda.is_available() else 'cpu'\n",
    "print('GPU State:', device)\n",
    "# the path where checkpoint saved\n",
    "model_path = './saved_model.ckpt'"
   ]
  },
  {
   "cell_type": "markdown",
   "metadata": {},
   "source": [
    "# Dataset, Data Loader, and Transforms"
   ]
  },
  {
   "cell_type": "code",
   "execution_count": 4,
   "metadata": {
    "ExecuteTime": {
     "end_time": "2022-12-07T10:12:07.554762Z",
     "start_time": "2022-12-07T10:12:07.540569Z"
    },
    "colab": {
     "base_uri": "https://localhost:8080/"
    },
    "id": "wrif2FZVl2hW",
    "outputId": "e56a65b6-853b-4439-e308-502aa6aff3a8"
   },
   "outputs": [
    {
     "name": "stdout",
     "output_type": "stream",
     "text": [
      "./train/train/images\n",
      "./test/test\n"
     ]
    }
   ],
   "source": [
    "# train_dir = os.path.join(os.getcwd(),\"drive/MyDrive/HW3/train/images\")\n",
    "# test_dir = os.path.join(os.getcwd(),\"drive/MyDrive/HW3/test/test\")\n",
    "train_dir = './train/train/images'\n",
    "test_dir = './test/test'\n",
    "print(train_dir)\n",
    "print(test_dir)"
   ]
  },
  {
   "cell_type": "markdown",
   "metadata": {},
   "source": [
    "## Transforms Setting"
   ]
  },
  {
   "cell_type": "code",
   "execution_count": 5,
   "metadata": {
    "ExecuteTime": {
     "end_time": "2022-12-07T10:12:07.570379Z",
     "start_time": "2022-12-07T10:12:07.555764Z"
    },
    "id": "u8xmID3qS7WR"
   },
   "outputs": [],
   "source": [
    "transform_set = [\n",
    "    # You may add some transforms here.\n",
    "    # transforms.RandomHorizontalFlip(),\n",
    "    # transforms.Resize((256, 256)),\n",
    "    # transforms.Pad(get_rand_padding(), fill=0, padding_mode=\"constant\"), \n",
    "    # transforms.RandomRotation(180),\n",
    "    # transforms.ColorJitter(brightness=0.1, contrast=0.1),\n",
    "\n",
    "    transforms.RandomHorizontalFlip(),\n",
    "    transforms.ColorJitter(brightness=0.1, contrast=0.1),\n",
    "    transforms.RandomRotation(30),\n",
    "]\n",
    "\n",
    "train_tfm = transforms.Compose([\n",
    "#     transforms.Grayscale(num_output_channels=3),\n",
    "\n",
    "    # Reorder transform randomly\n",
    "    transforms.RandomOrder(transform_set),\n",
    "    \n",
    "    # Resize the image into a fixed shape (height = width = 128)\n",
    "    transforms.Resize((224, 224)),\n",
    "    \n",
    "    # ToTensor() should be the last one of the transforms.\n",
    "    transforms.ToTensor(),\n",
    "    transforms.Normalize(mean=[0.485, 0.456, 0.406], std=[0.229, 0.224, 0.225]),\n",
    "])\n",
    "\n",
    "# We don't need augmentations in testing and validation.\n",
    "# All we need here is to resize the PIL image and transform it into Tensor.\n",
    "test_tfm = transforms.Compose([\n",
    "#     transforms.Grayscale(num_output_channels=3),\n",
    "    transforms.Resize((224, 224)),\n",
    "    transforms.ToTensor(),\n",
    "    transforms.Normalize(mean=[0.485, 0.456, 0.406], std=[0.229, 0.224, 0.225]),\n",
    "])\n"
   ]
  },
  {
   "cell_type": "code",
   "execution_count": 6,
   "metadata": {
    "ExecuteTime": {
     "end_time": "2022-12-07T10:12:07.585432Z",
     "start_time": "2022-12-07T10:12:07.571379Z"
    },
    "id": "_uTKmy4xuT-o"
   },
   "outputs": [],
   "source": [
    "train_set = ImageFolder(root=train_dir, transform=train_tfm)"
   ]
  },
  {
   "cell_type": "code",
   "execution_count": 7,
   "metadata": {
    "ExecuteTime": {
     "end_time": "2022-12-07T10:12:07.601438Z",
     "start_time": "2022-12-07T10:12:07.586432Z"
    }
   },
   "outputs": [],
   "source": [
    "batch_size = 32\n",
    "#\n",
    "from torch.utils.data import random_split\n",
    "_split = 0.85\n",
    "train_size = int(len(train_set) * _split)\n",
    "valid_size = len(train_set) - train_size\n",
    "train_data, valid_data = random_split(train_set, [train_size, valid_size])\n",
    "\n",
    "# Construct data loaders.\n",
    "train_loader = DataLoader(train_data, batch_size=batch_size, shuffle=True, num_workers=8, pin_memory=True)\n",
    "valid_loader = DataLoader(valid_data, batch_size=batch_size, shuffle=True, num_workers=8, pin_memory=True)"
   ]
  },
  {
   "cell_type": "markdown",
   "metadata": {},
   "source": [
    "# Model"
   ]
  },
  {
   "cell_type": "markdown",
   "metadata": {
    "id": "zQnaFdIIFR2_"
   },
   "source": [
    "## Transfer Learning using ResNeSt-50"
   ]
  },
  {
   "cell_type": "code",
   "execution_count": 8,
   "metadata": {
    "ExecuteTime": {
     "end_time": "2022-12-07T10:12:07.616763Z",
     "start_time": "2022-12-07T10:12:07.602438Z"
    }
   },
   "outputs": [],
   "source": [
    "import torchvision.models as models\n",
    "from torchvision.models import resnet18"
   ]
  },
  {
   "cell_type": "code",
   "execution_count": 9,
   "metadata": {
    "ExecuteTime": {
     "end_time": "2022-12-07T10:12:10.454099Z",
     "start_time": "2022-12-07T10:12:07.617764Z"
    }
   },
   "outputs": [
    {
     "name": "stderr",
     "output_type": "stream",
     "text": [
      "Downloading: \"https://github.com/zhanghang1989/ResNeSt/zipball/master\" to C:\\Users\\USER/.cache\\torch\\hub\\master.zip\n",
      "Using cache found in C:\\Users\\USER/.cache\\torch\\hub\\zhanghang1989_ResNeSt_master\n"
     ]
    }
   ],
   "source": [
    "torch.hub.list('zhanghang1989/ResNeSt', force_reload=True)\n",
    "# load pretrained models, using ResNeSt-50 as an example\n",
    "model = torch.hub.load('zhanghang1989/ResNeSt', 'resnest50', pretrained=True)\n",
    "num_ftrs = model.fc.in_features\n",
    "\n",
    "# Alternatively, it can be generalized to nn.Linear(num_ftrs, len(class_names)).\n",
    "model.fc = nn.Linear(num_ftrs, len(train_data.dataset.class_to_idx))\n",
    "model.to(device)\n",
    "\n",
    "model.device = device"
   ]
  },
  {
   "cell_type": "code",
   "execution_count": 10,
   "metadata": {
    "ExecuteTime": {
     "end_time": "2022-12-07T10:12:10.469619Z",
     "start_time": "2022-12-07T10:12:10.455099Z"
    }
   },
   "outputs": [],
   "source": [
    "# # Transfer Learning of resnet-18\n",
    "# model = resnet18(pretrained=True)\n",
    "# num_ftrs = model.fc.in_features\n",
    "\n",
    "# # Alternatively, it can be generalized to nn.Linear(num_ftrs, len(class_names)).\n",
    "# model.fc = nn.Linear(num_ftrs, len(train_data.dataset.class_to_idx))\n",
    "# model.to(device)\n",
    "\n",
    "# model.device = device"
   ]
  },
  {
   "cell_type": "code",
   "execution_count": 11,
   "metadata": {
    "ExecuteTime": {
     "end_time": "2022-12-07T10:12:12.682017Z",
     "start_time": "2022-12-07T10:12:10.470620Z"
    }
   },
   "outputs": [
    {
     "name": "stdout",
     "output_type": "stream",
     "text": [
      "----------------------------------------------------------------\n",
      "        Layer (type)               Output Shape         Param #\n",
      "================================================================\n",
      "            Conv2d-1         [-1, 32, 112, 112]             864\n",
      "       BatchNorm2d-2         [-1, 32, 112, 112]              64\n",
      "              ReLU-3         [-1, 32, 112, 112]               0\n",
      "            Conv2d-4         [-1, 32, 112, 112]           9,216\n",
      "       BatchNorm2d-5         [-1, 32, 112, 112]              64\n",
      "              ReLU-6         [-1, 32, 112, 112]               0\n",
      "            Conv2d-7         [-1, 64, 112, 112]          18,432\n",
      "       BatchNorm2d-8         [-1, 64, 112, 112]             128\n",
      "              ReLU-9         [-1, 64, 112, 112]               0\n",
      "        MaxPool2d-10           [-1, 64, 56, 56]               0\n",
      "           Conv2d-11           [-1, 64, 56, 56]           4,096\n",
      "      BatchNorm2d-12           [-1, 64, 56, 56]             128\n",
      "             ReLU-13           [-1, 64, 56, 56]               0\n",
      "           Conv2d-14          [-1, 128, 56, 56]          36,864\n",
      "      BatchNorm2d-15          [-1, 128, 56, 56]             256\n",
      "             ReLU-16          [-1, 128, 56, 56]               0\n",
      "           Conv2d-17             [-1, 32, 1, 1]           2,080\n",
      "      BatchNorm2d-18             [-1, 32, 1, 1]              64\n",
      "             ReLU-19             [-1, 32, 1, 1]               0\n",
      "           Conv2d-20            [-1, 128, 1, 1]           4,224\n",
      "         rSoftMax-21                  [-1, 128]               0\n",
      "      SplAtConv2d-22           [-1, 64, 56, 56]               0\n",
      "           Conv2d-23          [-1, 256, 56, 56]          16,384\n",
      "      BatchNorm2d-24          [-1, 256, 56, 56]             512\n",
      "        AvgPool2d-25           [-1, 64, 56, 56]               0\n",
      "           Conv2d-26          [-1, 256, 56, 56]          16,384\n",
      "      BatchNorm2d-27          [-1, 256, 56, 56]             512\n",
      "             ReLU-28          [-1, 256, 56, 56]               0\n",
      "       Bottleneck-29          [-1, 256, 56, 56]               0\n",
      "           Conv2d-30           [-1, 64, 56, 56]          16,384\n",
      "      BatchNorm2d-31           [-1, 64, 56, 56]             128\n",
      "             ReLU-32           [-1, 64, 56, 56]               0\n",
      "           Conv2d-33          [-1, 128, 56, 56]          36,864\n",
      "      BatchNorm2d-34          [-1, 128, 56, 56]             256\n",
      "             ReLU-35          [-1, 128, 56, 56]               0\n",
      "           Conv2d-36             [-1, 32, 1, 1]           2,080\n",
      "      BatchNorm2d-37             [-1, 32, 1, 1]              64\n",
      "             ReLU-38             [-1, 32, 1, 1]               0\n",
      "           Conv2d-39            [-1, 128, 1, 1]           4,224\n",
      "         rSoftMax-40                  [-1, 128]               0\n",
      "      SplAtConv2d-41           [-1, 64, 56, 56]               0\n",
      "           Conv2d-42          [-1, 256, 56, 56]          16,384\n",
      "      BatchNorm2d-43          [-1, 256, 56, 56]             512\n",
      "             ReLU-44          [-1, 256, 56, 56]               0\n",
      "       Bottleneck-45          [-1, 256, 56, 56]               0\n",
      "           Conv2d-46           [-1, 64, 56, 56]          16,384\n",
      "      BatchNorm2d-47           [-1, 64, 56, 56]             128\n",
      "             ReLU-48           [-1, 64, 56, 56]               0\n",
      "           Conv2d-49          [-1, 128, 56, 56]          36,864\n",
      "      BatchNorm2d-50          [-1, 128, 56, 56]             256\n",
      "             ReLU-51          [-1, 128, 56, 56]               0\n",
      "           Conv2d-52             [-1, 32, 1, 1]           2,080\n",
      "      BatchNorm2d-53             [-1, 32, 1, 1]              64\n",
      "             ReLU-54             [-1, 32, 1, 1]               0\n",
      "           Conv2d-55            [-1, 128, 1, 1]           4,224\n",
      "         rSoftMax-56                  [-1, 128]               0\n",
      "      SplAtConv2d-57           [-1, 64, 56, 56]               0\n",
      "           Conv2d-58          [-1, 256, 56, 56]          16,384\n",
      "      BatchNorm2d-59          [-1, 256, 56, 56]             512\n",
      "             ReLU-60          [-1, 256, 56, 56]               0\n",
      "       Bottleneck-61          [-1, 256, 56, 56]               0\n",
      "           Conv2d-62          [-1, 128, 56, 56]          32,768\n",
      "      BatchNorm2d-63          [-1, 128, 56, 56]             256\n",
      "             ReLU-64          [-1, 128, 56, 56]               0\n",
      "           Conv2d-65          [-1, 256, 56, 56]         147,456\n",
      "      BatchNorm2d-66          [-1, 256, 56, 56]             512\n",
      "             ReLU-67          [-1, 256, 56, 56]               0\n",
      "           Conv2d-68             [-1, 64, 1, 1]           8,256\n",
      "      BatchNorm2d-69             [-1, 64, 1, 1]             128\n",
      "             ReLU-70             [-1, 64, 1, 1]               0\n",
      "           Conv2d-71            [-1, 256, 1, 1]          16,640\n",
      "         rSoftMax-72                  [-1, 256]               0\n",
      "      SplAtConv2d-73          [-1, 128, 56, 56]               0\n",
      "        AvgPool2d-74          [-1, 128, 28, 28]               0\n",
      "           Conv2d-75          [-1, 512, 28, 28]          65,536\n",
      "      BatchNorm2d-76          [-1, 512, 28, 28]           1,024\n",
      "        AvgPool2d-77          [-1, 256, 28, 28]               0\n",
      "           Conv2d-78          [-1, 512, 28, 28]         131,072\n",
      "      BatchNorm2d-79          [-1, 512, 28, 28]           1,024\n",
      "             ReLU-80          [-1, 512, 28, 28]               0\n",
      "       Bottleneck-81          [-1, 512, 28, 28]               0\n",
      "           Conv2d-82          [-1, 128, 28, 28]          65,536\n",
      "      BatchNorm2d-83          [-1, 128, 28, 28]             256\n",
      "             ReLU-84          [-1, 128, 28, 28]               0\n",
      "           Conv2d-85          [-1, 256, 28, 28]         147,456\n",
      "      BatchNorm2d-86          [-1, 256, 28, 28]             512\n",
      "             ReLU-87          [-1, 256, 28, 28]               0\n",
      "           Conv2d-88             [-1, 64, 1, 1]           8,256\n",
      "      BatchNorm2d-89             [-1, 64, 1, 1]             128\n",
      "             ReLU-90             [-1, 64, 1, 1]               0\n",
      "           Conv2d-91            [-1, 256, 1, 1]          16,640\n",
      "         rSoftMax-92                  [-1, 256]               0\n",
      "      SplAtConv2d-93          [-1, 128, 28, 28]               0\n",
      "           Conv2d-94          [-1, 512, 28, 28]          65,536\n",
      "      BatchNorm2d-95          [-1, 512, 28, 28]           1,024\n",
      "             ReLU-96          [-1, 512, 28, 28]               0\n",
      "       Bottleneck-97          [-1, 512, 28, 28]               0\n",
      "           Conv2d-98          [-1, 128, 28, 28]          65,536\n",
      "      BatchNorm2d-99          [-1, 128, 28, 28]             256\n",
      "            ReLU-100          [-1, 128, 28, 28]               0\n",
      "          Conv2d-101          [-1, 256, 28, 28]         147,456\n",
      "     BatchNorm2d-102          [-1, 256, 28, 28]             512\n",
      "            ReLU-103          [-1, 256, 28, 28]               0\n",
      "          Conv2d-104             [-1, 64, 1, 1]           8,256\n",
      "     BatchNorm2d-105             [-1, 64, 1, 1]             128\n",
      "            ReLU-106             [-1, 64, 1, 1]               0\n",
      "          Conv2d-107            [-1, 256, 1, 1]          16,640\n",
      "        rSoftMax-108                  [-1, 256]               0\n",
      "     SplAtConv2d-109          [-1, 128, 28, 28]               0\n",
      "          Conv2d-110          [-1, 512, 28, 28]          65,536\n",
      "     BatchNorm2d-111          [-1, 512, 28, 28]           1,024\n",
      "            ReLU-112          [-1, 512, 28, 28]               0\n",
      "      Bottleneck-113          [-1, 512, 28, 28]               0\n",
      "          Conv2d-114          [-1, 128, 28, 28]          65,536\n",
      "     BatchNorm2d-115          [-1, 128, 28, 28]             256\n",
      "            ReLU-116          [-1, 128, 28, 28]               0\n",
      "          Conv2d-117          [-1, 256, 28, 28]         147,456\n",
      "     BatchNorm2d-118          [-1, 256, 28, 28]             512\n",
      "            ReLU-119          [-1, 256, 28, 28]               0\n",
      "          Conv2d-120             [-1, 64, 1, 1]           8,256\n",
      "     BatchNorm2d-121             [-1, 64, 1, 1]             128\n",
      "            ReLU-122             [-1, 64, 1, 1]               0\n",
      "          Conv2d-123            [-1, 256, 1, 1]          16,640\n",
      "        rSoftMax-124                  [-1, 256]               0\n",
      "     SplAtConv2d-125          [-1, 128, 28, 28]               0\n",
      "          Conv2d-126          [-1, 512, 28, 28]          65,536\n",
      "     BatchNorm2d-127          [-1, 512, 28, 28]           1,024\n",
      "            ReLU-128          [-1, 512, 28, 28]               0\n",
      "      Bottleneck-129          [-1, 512, 28, 28]               0\n",
      "          Conv2d-130          [-1, 256, 28, 28]         131,072\n",
      "     BatchNorm2d-131          [-1, 256, 28, 28]             512\n",
      "            ReLU-132          [-1, 256, 28, 28]               0\n",
      "          Conv2d-133          [-1, 512, 28, 28]         589,824\n",
      "     BatchNorm2d-134          [-1, 512, 28, 28]           1,024\n",
      "            ReLU-135          [-1, 512, 28, 28]               0\n",
      "          Conv2d-136            [-1, 128, 1, 1]          32,896\n",
      "     BatchNorm2d-137            [-1, 128, 1, 1]             256\n",
      "            ReLU-138            [-1, 128, 1, 1]               0\n",
      "          Conv2d-139            [-1, 512, 1, 1]          66,048\n",
      "        rSoftMax-140                  [-1, 512]               0\n",
      "     SplAtConv2d-141          [-1, 256, 28, 28]               0\n",
      "       AvgPool2d-142          [-1, 256, 14, 14]               0\n",
      "          Conv2d-143         [-1, 1024, 14, 14]         262,144\n",
      "     BatchNorm2d-144         [-1, 1024, 14, 14]           2,048\n",
      "       AvgPool2d-145          [-1, 512, 14, 14]               0\n",
      "          Conv2d-146         [-1, 1024, 14, 14]         524,288\n",
      "     BatchNorm2d-147         [-1, 1024, 14, 14]           2,048\n",
      "            ReLU-148         [-1, 1024, 14, 14]               0\n",
      "      Bottleneck-149         [-1, 1024, 14, 14]               0\n",
      "          Conv2d-150          [-1, 256, 14, 14]         262,144\n",
      "     BatchNorm2d-151          [-1, 256, 14, 14]             512\n",
      "            ReLU-152          [-1, 256, 14, 14]               0\n",
      "          Conv2d-153          [-1, 512, 14, 14]         589,824\n",
      "     BatchNorm2d-154          [-1, 512, 14, 14]           1,024\n",
      "            ReLU-155          [-1, 512, 14, 14]               0\n",
      "          Conv2d-156            [-1, 128, 1, 1]          32,896\n",
      "     BatchNorm2d-157            [-1, 128, 1, 1]             256\n",
      "            ReLU-158            [-1, 128, 1, 1]               0\n",
      "          Conv2d-159            [-1, 512, 1, 1]          66,048\n",
      "        rSoftMax-160                  [-1, 512]               0\n",
      "     SplAtConv2d-161          [-1, 256, 14, 14]               0\n",
      "          Conv2d-162         [-1, 1024, 14, 14]         262,144\n",
      "     BatchNorm2d-163         [-1, 1024, 14, 14]           2,048\n",
      "            ReLU-164         [-1, 1024, 14, 14]               0\n",
      "      Bottleneck-165         [-1, 1024, 14, 14]               0\n",
      "          Conv2d-166          [-1, 256, 14, 14]         262,144\n",
      "     BatchNorm2d-167          [-1, 256, 14, 14]             512\n",
      "            ReLU-168          [-1, 256, 14, 14]               0\n",
      "          Conv2d-169          [-1, 512, 14, 14]         589,824\n",
      "     BatchNorm2d-170          [-1, 512, 14, 14]           1,024\n",
      "            ReLU-171          [-1, 512, 14, 14]               0\n",
      "          Conv2d-172            [-1, 128, 1, 1]          32,896\n",
      "     BatchNorm2d-173            [-1, 128, 1, 1]             256\n",
      "            ReLU-174            [-1, 128, 1, 1]               0\n",
      "          Conv2d-175            [-1, 512, 1, 1]          66,048\n",
      "        rSoftMax-176                  [-1, 512]               0\n",
      "     SplAtConv2d-177          [-1, 256, 14, 14]               0\n",
      "          Conv2d-178         [-1, 1024, 14, 14]         262,144\n",
      "     BatchNorm2d-179         [-1, 1024, 14, 14]           2,048\n",
      "            ReLU-180         [-1, 1024, 14, 14]               0\n",
      "      Bottleneck-181         [-1, 1024, 14, 14]               0\n",
      "          Conv2d-182          [-1, 256, 14, 14]         262,144\n",
      "     BatchNorm2d-183          [-1, 256, 14, 14]             512\n",
      "            ReLU-184          [-1, 256, 14, 14]               0\n",
      "          Conv2d-185          [-1, 512, 14, 14]         589,824\n",
      "     BatchNorm2d-186          [-1, 512, 14, 14]           1,024\n",
      "            ReLU-187          [-1, 512, 14, 14]               0\n",
      "          Conv2d-188            [-1, 128, 1, 1]          32,896\n",
      "     BatchNorm2d-189            [-1, 128, 1, 1]             256\n",
      "            ReLU-190            [-1, 128, 1, 1]               0\n",
      "          Conv2d-191            [-1, 512, 1, 1]          66,048\n",
      "        rSoftMax-192                  [-1, 512]               0\n",
      "     SplAtConv2d-193          [-1, 256, 14, 14]               0\n",
      "          Conv2d-194         [-1, 1024, 14, 14]         262,144\n",
      "     BatchNorm2d-195         [-1, 1024, 14, 14]           2,048\n",
      "            ReLU-196         [-1, 1024, 14, 14]               0\n",
      "      Bottleneck-197         [-1, 1024, 14, 14]               0\n",
      "          Conv2d-198          [-1, 256, 14, 14]         262,144\n",
      "     BatchNorm2d-199          [-1, 256, 14, 14]             512\n",
      "            ReLU-200          [-1, 256, 14, 14]               0\n",
      "          Conv2d-201          [-1, 512, 14, 14]         589,824\n",
      "     BatchNorm2d-202          [-1, 512, 14, 14]           1,024\n",
      "            ReLU-203          [-1, 512, 14, 14]               0\n",
      "          Conv2d-204            [-1, 128, 1, 1]          32,896\n",
      "     BatchNorm2d-205            [-1, 128, 1, 1]             256\n",
      "            ReLU-206            [-1, 128, 1, 1]               0\n",
      "          Conv2d-207            [-1, 512, 1, 1]          66,048\n",
      "        rSoftMax-208                  [-1, 512]               0\n",
      "     SplAtConv2d-209          [-1, 256, 14, 14]               0\n",
      "          Conv2d-210         [-1, 1024, 14, 14]         262,144\n",
      "     BatchNorm2d-211         [-1, 1024, 14, 14]           2,048\n",
      "            ReLU-212         [-1, 1024, 14, 14]               0\n",
      "      Bottleneck-213         [-1, 1024, 14, 14]               0\n",
      "          Conv2d-214          [-1, 256, 14, 14]         262,144\n",
      "     BatchNorm2d-215          [-1, 256, 14, 14]             512\n",
      "            ReLU-216          [-1, 256, 14, 14]               0\n",
      "          Conv2d-217          [-1, 512, 14, 14]         589,824\n",
      "     BatchNorm2d-218          [-1, 512, 14, 14]           1,024\n",
      "            ReLU-219          [-1, 512, 14, 14]               0\n",
      "          Conv2d-220            [-1, 128, 1, 1]          32,896\n",
      "     BatchNorm2d-221            [-1, 128, 1, 1]             256\n",
      "            ReLU-222            [-1, 128, 1, 1]               0\n",
      "          Conv2d-223            [-1, 512, 1, 1]          66,048\n",
      "        rSoftMax-224                  [-1, 512]               0\n",
      "     SplAtConv2d-225          [-1, 256, 14, 14]               0\n",
      "          Conv2d-226         [-1, 1024, 14, 14]         262,144\n",
      "     BatchNorm2d-227         [-1, 1024, 14, 14]           2,048\n",
      "            ReLU-228         [-1, 1024, 14, 14]               0\n",
      "      Bottleneck-229         [-1, 1024, 14, 14]               0\n",
      "          Conv2d-230          [-1, 512, 14, 14]         524,288\n",
      "     BatchNorm2d-231          [-1, 512, 14, 14]           1,024\n",
      "            ReLU-232          [-1, 512, 14, 14]               0\n",
      "          Conv2d-233         [-1, 1024, 14, 14]       2,359,296\n",
      "     BatchNorm2d-234         [-1, 1024, 14, 14]           2,048\n",
      "            ReLU-235         [-1, 1024, 14, 14]               0\n",
      "          Conv2d-236            [-1, 256, 1, 1]         131,328\n",
      "     BatchNorm2d-237            [-1, 256, 1, 1]             512\n",
      "            ReLU-238            [-1, 256, 1, 1]               0\n",
      "          Conv2d-239           [-1, 1024, 1, 1]         263,168\n",
      "        rSoftMax-240                 [-1, 1024]               0\n",
      "     SplAtConv2d-241          [-1, 512, 14, 14]               0\n",
      "       AvgPool2d-242            [-1, 512, 7, 7]               0\n",
      "          Conv2d-243           [-1, 2048, 7, 7]       1,048,576\n",
      "     BatchNorm2d-244           [-1, 2048, 7, 7]           4,096\n",
      "       AvgPool2d-245           [-1, 1024, 7, 7]               0\n",
      "          Conv2d-246           [-1, 2048, 7, 7]       2,097,152\n",
      "     BatchNorm2d-247           [-1, 2048, 7, 7]           4,096\n",
      "            ReLU-248           [-1, 2048, 7, 7]               0\n",
      "      Bottleneck-249           [-1, 2048, 7, 7]               0\n",
      "          Conv2d-250            [-1, 512, 7, 7]       1,048,576\n",
      "     BatchNorm2d-251            [-1, 512, 7, 7]           1,024\n",
      "            ReLU-252            [-1, 512, 7, 7]               0\n",
      "          Conv2d-253           [-1, 1024, 7, 7]       2,359,296\n",
      "     BatchNorm2d-254           [-1, 1024, 7, 7]           2,048\n",
      "            ReLU-255           [-1, 1024, 7, 7]               0\n",
      "          Conv2d-256            [-1, 256, 1, 1]         131,328\n",
      "     BatchNorm2d-257            [-1, 256, 1, 1]             512\n",
      "            ReLU-258            [-1, 256, 1, 1]               0\n",
      "          Conv2d-259           [-1, 1024, 1, 1]         263,168\n",
      "        rSoftMax-260                 [-1, 1024]               0\n",
      "     SplAtConv2d-261            [-1, 512, 7, 7]               0\n",
      "          Conv2d-262           [-1, 2048, 7, 7]       1,048,576\n",
      "     BatchNorm2d-263           [-1, 2048, 7, 7]           4,096\n",
      "            ReLU-264           [-1, 2048, 7, 7]               0\n",
      "      Bottleneck-265           [-1, 2048, 7, 7]               0\n",
      "          Conv2d-266            [-1, 512, 7, 7]       1,048,576\n",
      "     BatchNorm2d-267            [-1, 512, 7, 7]           1,024\n",
      "            ReLU-268            [-1, 512, 7, 7]               0\n",
      "          Conv2d-269           [-1, 1024, 7, 7]       2,359,296\n",
      "     BatchNorm2d-270           [-1, 1024, 7, 7]           2,048\n",
      "            ReLU-271           [-1, 1024, 7, 7]               0\n",
      "          Conv2d-272            [-1, 256, 1, 1]         131,328\n",
      "     BatchNorm2d-273            [-1, 256, 1, 1]             512\n",
      "            ReLU-274            [-1, 256, 1, 1]               0\n",
      "          Conv2d-275           [-1, 1024, 1, 1]         263,168\n",
      "        rSoftMax-276                 [-1, 1024]               0\n",
      "     SplAtConv2d-277            [-1, 512, 7, 7]               0\n",
      "          Conv2d-278           [-1, 2048, 7, 7]       1,048,576\n",
      "     BatchNorm2d-279           [-1, 2048, 7, 7]           4,096\n",
      "            ReLU-280           [-1, 2048, 7, 7]               0\n",
      "      Bottleneck-281           [-1, 2048, 7, 7]               0\n",
      " GlobalAvgPool2d-282                 [-1, 2048]               0\n",
      "          Linear-283                    [-1, 6]          12,294\n",
      "================================================================\n",
      "Total params: 25,446,534\n",
      "Trainable params: 25,446,534\n",
      "Non-trainable params: 0\n",
      "----------------------------------------------------------------\n",
      "Input size (MB): 0.57\n",
      "Forward/backward pass size (MB): 380.88\n",
      "Params size (MB): 97.07\n",
      "Estimated Total Size (MB): 478.53\n",
      "----------------------------------------------------------------\n"
     ]
    }
   ],
   "source": [
    "from torchsummary import summary\n",
    "summary(model.cuda(), (3, 224, 224))"
   ]
  },
  {
   "cell_type": "markdown",
   "metadata": {},
   "source": [
    "# Training"
   ]
  },
  {
   "cell_type": "code",
   "execution_count": 12,
   "metadata": {
    "ExecuteTime": {
     "end_time": "2022-12-07T10:27:37.236632Z",
     "start_time": "2022-12-07T10:12:12.682623Z"
    },
    "scrolled": true
   },
   "outputs": [
    {
     "name": "stderr",
     "output_type": "stream",
     "text": [
      "100%|██████████| 39/39 [00:24<00:00,  1.57it/s]\n"
     ]
    },
    {
     "name": "stdout",
     "output_type": "stream",
     "text": [
      "[ Train | 001/1000 ] loss = 0.26923, acc = 0.92548\n"
     ]
    },
    {
     "name": "stderr",
     "output_type": "stream",
     "text": [
      "100%|██████████| 7/7 [00:08<00:00,  1.26s/it]\n"
     ]
    },
    {
     "name": "stdout",
     "output_type": "stream",
     "text": [
      "[ Valid | 001/1000 ] loss = 0.27770, acc = 0.91220\n",
      "saving model with acc 0.912\n"
     ]
    },
    {
     "name": "stderr",
     "output_type": "stream",
     "text": [
      "100%|██████████| 39/39 [00:24<00:00,  1.59it/s]\n"
     ]
    },
    {
     "name": "stdout",
     "output_type": "stream",
     "text": [
      "[ Train | 002/1000 ] loss = 0.09123, acc = 0.98157\n"
     ]
    },
    {
     "name": "stderr",
     "output_type": "stream",
     "text": [
      "100%|██████████| 7/7 [00:08<00:00,  1.25s/it]\n"
     ]
    },
    {
     "name": "stdout",
     "output_type": "stream",
     "text": [
      "[ Valid | 002/1000 ] loss = 0.02298, acc = 0.99554\n",
      "saving model with acc 0.996\n"
     ]
    },
    {
     "name": "stderr",
     "output_type": "stream",
     "text": [
      "100%|██████████| 39/39 [00:24<00:00,  1.59it/s]\n"
     ]
    },
    {
     "name": "stdout",
     "output_type": "stream",
     "text": [
      "[ Train | 003/1000 ] loss = 0.09613, acc = 0.97596\n"
     ]
    },
    {
     "name": "stderr",
     "output_type": "stream",
     "text": [
      "100%|██████████| 7/7 [00:08<00:00,  1.24s/it]\n"
     ]
    },
    {
     "name": "stdout",
     "output_type": "stream",
     "text": [
      "[ Valid | 003/1000 ] loss = 0.08504, acc = 0.96577\n"
     ]
    },
    {
     "name": "stderr",
     "output_type": "stream",
     "text": [
      "100%|██████████| 39/39 [00:24<00:00,  1.59it/s]\n"
     ]
    },
    {
     "name": "stdout",
     "output_type": "stream",
     "text": [
      "[ Train | 004/1000 ] loss = 0.04546, acc = 0.98718\n"
     ]
    },
    {
     "name": "stderr",
     "output_type": "stream",
     "text": [
      "100%|██████████| 7/7 [00:08<00:00,  1.22s/it]\n"
     ]
    },
    {
     "name": "stdout",
     "output_type": "stream",
     "text": [
      "[ Valid | 004/1000 ] loss = 0.01297, acc = 0.99405\n"
     ]
    },
    {
     "name": "stderr",
     "output_type": "stream",
     "text": [
      "100%|██████████| 39/39 [00:24<00:00,  1.60it/s]\n"
     ]
    },
    {
     "name": "stdout",
     "output_type": "stream",
     "text": [
      "[ Train | 005/1000 ] loss = 0.06406, acc = 0.98558\n"
     ]
    },
    {
     "name": "stderr",
     "output_type": "stream",
     "text": [
      "100%|██████████| 7/7 [00:08<00:00,  1.22s/it]\n"
     ]
    },
    {
     "name": "stdout",
     "output_type": "stream",
     "text": [
      "[ Valid | 005/1000 ] loss = 0.13695, acc = 0.94345\n"
     ]
    },
    {
     "name": "stderr",
     "output_type": "stream",
     "text": [
      "100%|██████████| 39/39 [00:24<00:00,  1.60it/s]\n"
     ]
    },
    {
     "name": "stdout",
     "output_type": "stream",
     "text": [
      "[ Train | 006/1000 ] loss = 0.01989, acc = 0.99359\n"
     ]
    },
    {
     "name": "stderr",
     "output_type": "stream",
     "text": [
      "100%|██████████| 7/7 [00:08<00:00,  1.23s/it]\n"
     ]
    },
    {
     "name": "stdout",
     "output_type": "stream",
     "text": [
      "[ Valid | 006/1000 ] loss = 0.05311, acc = 0.99554\n"
     ]
    },
    {
     "name": "stderr",
     "output_type": "stream",
     "text": [
      "100%|██████████| 39/39 [00:24<00:00,  1.60it/s]\n"
     ]
    },
    {
     "name": "stdout",
     "output_type": "stream",
     "text": [
      "[ Train | 007/1000 ] loss = 0.03353, acc = 0.99279\n"
     ]
    },
    {
     "name": "stderr",
     "output_type": "stream",
     "text": [
      "100%|██████████| 7/7 [00:08<00:00,  1.23s/it]\n"
     ]
    },
    {
     "name": "stdout",
     "output_type": "stream",
     "text": [
      "[ Valid | 007/1000 ] loss = 0.00968, acc = 0.99554\n",
      "saving model with acc 0.996\n"
     ]
    },
    {
     "name": "stderr",
     "output_type": "stream",
     "text": [
      "100%|██████████| 39/39 [00:24<00:00,  1.60it/s]\n"
     ]
    },
    {
     "name": "stdout",
     "output_type": "stream",
     "text": [
      "[ Train | 008/1000 ] loss = 0.10347, acc = 0.98237\n"
     ]
    },
    {
     "name": "stderr",
     "output_type": "stream",
     "text": [
      "100%|██████████| 7/7 [00:08<00:00,  1.22s/it]\n"
     ]
    },
    {
     "name": "stdout",
     "output_type": "stream",
     "text": [
      "[ Valid | 008/1000 ] loss = 0.02431, acc = 0.99107\n"
     ]
    },
    {
     "name": "stderr",
     "output_type": "stream",
     "text": [
      "100%|██████████| 39/39 [00:24<00:00,  1.60it/s]\n"
     ]
    },
    {
     "name": "stdout",
     "output_type": "stream",
     "text": [
      "[ Train | 009/1000 ] loss = 0.03835, acc = 0.99038\n"
     ]
    },
    {
     "name": "stderr",
     "output_type": "stream",
     "text": [
      "100%|██████████| 7/7 [00:08<00:00,  1.23s/it]\n"
     ]
    },
    {
     "name": "stdout",
     "output_type": "stream",
     "text": [
      "[ Valid | 009/1000 ] loss = 0.00161, acc = 1.00000\n",
      "saving model with acc 1.000\n"
     ]
    },
    {
     "name": "stderr",
     "output_type": "stream",
     "text": [
      "100%|██████████| 39/39 [00:24<00:00,  1.60it/s]\n"
     ]
    },
    {
     "name": "stdout",
     "output_type": "stream",
     "text": [
      "[ Train | 010/1000 ] loss = 0.02234, acc = 0.99359\n"
     ]
    },
    {
     "name": "stderr",
     "output_type": "stream",
     "text": [
      "100%|██████████| 7/7 [00:08<00:00,  1.21s/it]\n"
     ]
    },
    {
     "name": "stdout",
     "output_type": "stream",
     "text": [
      "[ Valid | 010/1000 ] loss = 0.00574, acc = 0.99554\n"
     ]
    },
    {
     "name": "stderr",
     "output_type": "stream",
     "text": [
      "100%|██████████| 39/39 [00:24<00:00,  1.59it/s]\n"
     ]
    },
    {
     "name": "stdout",
     "output_type": "stream",
     "text": [
      "[ Train | 011/1000 ] loss = 0.01928, acc = 0.99760\n"
     ]
    },
    {
     "name": "stderr",
     "output_type": "stream",
     "text": [
      "100%|██████████| 7/7 [00:08<00:00,  1.26s/it]\n"
     ]
    },
    {
     "name": "stdout",
     "output_type": "stream",
     "text": [
      "[ Valid | 011/1000 ] loss = 0.00747, acc = 0.99554\n"
     ]
    },
    {
     "name": "stderr",
     "output_type": "stream",
     "text": [
      "100%|██████████| 39/39 [00:24<00:00,  1.57it/s]\n"
     ]
    },
    {
     "name": "stdout",
     "output_type": "stream",
     "text": [
      "[ Train | 012/1000 ] loss = 0.05212, acc = 0.98478\n"
     ]
    },
    {
     "name": "stderr",
     "output_type": "stream",
     "text": [
      "100%|██████████| 7/7 [00:08<00:00,  1.23s/it]\n"
     ]
    },
    {
     "name": "stdout",
     "output_type": "stream",
     "text": [
      "[ Valid | 012/1000 ] loss = 0.59374, acc = 0.88393\n"
     ]
    },
    {
     "name": "stderr",
     "output_type": "stream",
     "text": [
      "100%|██████████| 39/39 [00:24<00:00,  1.60it/s]\n"
     ]
    },
    {
     "name": "stdout",
     "output_type": "stream",
     "text": [
      "[ Train | 013/1000 ] loss = 0.03931, acc = 0.99199\n"
     ]
    },
    {
     "name": "stderr",
     "output_type": "stream",
     "text": [
      "100%|██████████| 7/7 [00:08<00:00,  1.23s/it]\n"
     ]
    },
    {
     "name": "stdout",
     "output_type": "stream",
     "text": [
      "[ Valid | 013/1000 ] loss = 0.07377, acc = 0.99107\n"
     ]
    },
    {
     "name": "stderr",
     "output_type": "stream",
     "text": [
      "100%|██████████| 39/39 [00:24<00:00,  1.61it/s]\n"
     ]
    },
    {
     "name": "stdout",
     "output_type": "stream",
     "text": [
      "[ Train | 014/1000 ] loss = 0.00647, acc = 0.99920\n"
     ]
    },
    {
     "name": "stderr",
     "output_type": "stream",
     "text": [
      "100%|██████████| 7/7 [00:08<00:00,  1.22s/it]\n"
     ]
    },
    {
     "name": "stdout",
     "output_type": "stream",
     "text": [
      "[ Valid | 014/1000 ] loss = 0.01204, acc = 0.99554\n"
     ]
    },
    {
     "name": "stderr",
     "output_type": "stream",
     "text": [
      "100%|██████████| 39/39 [00:24<00:00,  1.61it/s]\n"
     ]
    },
    {
     "name": "stdout",
     "output_type": "stream",
     "text": [
      "[ Train | 015/1000 ] loss = 0.00915, acc = 0.99599\n"
     ]
    },
    {
     "name": "stderr",
     "output_type": "stream",
     "text": [
      "100%|██████████| 7/7 [00:08<00:00,  1.23s/it]\n"
     ]
    },
    {
     "name": "stdout",
     "output_type": "stream",
     "text": [
      "[ Valid | 015/1000 ] loss = 0.00877, acc = 0.99554\n"
     ]
    },
    {
     "name": "stderr",
     "output_type": "stream",
     "text": [
      "100%|██████████| 39/39 [00:24<00:00,  1.61it/s]\n"
     ]
    },
    {
     "name": "stdout",
     "output_type": "stream",
     "text": [
      "[ Train | 016/1000 ] loss = 0.08217, acc = 0.98638\n"
     ]
    },
    {
     "name": "stderr",
     "output_type": "stream",
     "text": [
      "100%|██████████| 7/7 [00:08<00:00,  1.23s/it]\n"
     ]
    },
    {
     "name": "stdout",
     "output_type": "stream",
     "text": [
      "[ Valid | 016/1000 ] loss = 0.14060, acc = 0.97321\n"
     ]
    },
    {
     "name": "stderr",
     "output_type": "stream",
     "text": [
      "100%|██████████| 39/39 [00:24<00:00,  1.61it/s]\n"
     ]
    },
    {
     "name": "stdout",
     "output_type": "stream",
     "text": [
      "[ Train | 017/1000 ] loss = 0.09776, acc = 0.97837\n"
     ]
    },
    {
     "name": "stderr",
     "output_type": "stream",
     "text": [
      "100%|██████████| 7/7 [00:08<00:00,  1.23s/it]\n"
     ]
    },
    {
     "name": "stdout",
     "output_type": "stream",
     "text": [
      "[ Valid | 017/1000 ] loss = 0.00799, acc = 1.00000\n"
     ]
    },
    {
     "name": "stderr",
     "output_type": "stream",
     "text": [
      "100%|██████████| 39/39 [00:24<00:00,  1.61it/s]\n"
     ]
    },
    {
     "name": "stdout",
     "output_type": "stream",
     "text": [
      "[ Train | 018/1000 ] loss = 0.05189, acc = 0.98958\n"
     ]
    },
    {
     "name": "stderr",
     "output_type": "stream",
     "text": [
      "100%|██████████| 7/7 [00:08<00:00,  1.23s/it]\n"
     ]
    },
    {
     "name": "stdout",
     "output_type": "stream",
     "text": [
      "[ Valid | 018/1000 ] loss = 0.00019, acc = 1.00000\n",
      "saving model with acc 1.000\n"
     ]
    },
    {
     "name": "stderr",
     "output_type": "stream",
     "text": [
      "100%|██████████| 39/39 [00:24<00:00,  1.61it/s]\n"
     ]
    },
    {
     "name": "stdout",
     "output_type": "stream",
     "text": [
      "[ Train | 019/1000 ] loss = 0.03050, acc = 0.99038\n"
     ]
    },
    {
     "name": "stderr",
     "output_type": "stream",
     "text": [
      "100%|██████████| 7/7 [00:08<00:00,  1.22s/it]\n"
     ]
    },
    {
     "name": "stdout",
     "output_type": "stream",
     "text": [
      "[ Valid | 019/1000 ] loss = 4.53411, acc = 0.86458\n"
     ]
    },
    {
     "name": "stderr",
     "output_type": "stream",
     "text": [
      "100%|██████████| 39/39 [00:24<00:00,  1.61it/s]\n"
     ]
    },
    {
     "name": "stdout",
     "output_type": "stream",
     "text": [
      "[ Train | 020/1000 ] loss = 0.04596, acc = 0.99038\n"
     ]
    },
    {
     "name": "stderr",
     "output_type": "stream",
     "text": [
      "100%|██████████| 7/7 [00:08<00:00,  1.20s/it]\n"
     ]
    },
    {
     "name": "stdout",
     "output_type": "stream",
     "text": [
      "[ Valid | 020/1000 ] loss = 0.03116, acc = 0.99554\n"
     ]
    },
    {
     "name": "stderr",
     "output_type": "stream",
     "text": [
      "100%|██████████| 39/39 [00:24<00:00,  1.60it/s]\n"
     ]
    },
    {
     "name": "stdout",
     "output_type": "stream",
     "text": [
      "[ Train | 021/1000 ] loss = 0.11034, acc = 0.97676\n"
     ]
    },
    {
     "name": "stderr",
     "output_type": "stream",
     "text": [
      "100%|██████████| 7/7 [00:08<00:00,  1.23s/it]\n"
     ]
    },
    {
     "name": "stdout",
     "output_type": "stream",
     "text": [
      "[ Valid | 021/1000 ] loss = 0.03426, acc = 0.99107\n"
     ]
    },
    {
     "name": "stderr",
     "output_type": "stream",
     "text": [
      "100%|██████████| 39/39 [00:24<00:00,  1.60it/s]\n"
     ]
    },
    {
     "name": "stdout",
     "output_type": "stream",
     "text": [
      "[ Train | 022/1000 ] loss = 0.04336, acc = 0.98798\n"
     ]
    },
    {
     "name": "stderr",
     "output_type": "stream",
     "text": [
      "100%|██████████| 7/7 [00:08<00:00,  1.23s/it]\n"
     ]
    },
    {
     "name": "stdout",
     "output_type": "stream",
     "text": [
      "[ Valid | 022/1000 ] loss = 0.03371, acc = 0.99107\n"
     ]
    },
    {
     "name": "stderr",
     "output_type": "stream",
     "text": [
      "100%|██████████| 39/39 [00:24<00:00,  1.60it/s]\n"
     ]
    },
    {
     "name": "stdout",
     "output_type": "stream",
     "text": [
      "[ Train | 023/1000 ] loss = 0.03514, acc = 0.99199\n"
     ]
    },
    {
     "name": "stderr",
     "output_type": "stream",
     "text": [
      "100%|██████████| 7/7 [00:08<00:00,  1.23s/it]\n"
     ]
    },
    {
     "name": "stdout",
     "output_type": "stream",
     "text": [
      "[ Valid | 023/1000 ] loss = 0.00775, acc = 1.00000\n"
     ]
    },
    {
     "name": "stderr",
     "output_type": "stream",
     "text": [
      "100%|██████████| 39/39 [00:24<00:00,  1.60it/s]\n"
     ]
    },
    {
     "name": "stdout",
     "output_type": "stream",
     "text": [
      "[ Train | 024/1000 ] loss = 0.02891, acc = 0.99519\n"
     ]
    },
    {
     "name": "stderr",
     "output_type": "stream",
     "text": [
      "100%|██████████| 7/7 [00:08<00:00,  1.23s/it]\n"
     ]
    },
    {
     "name": "stdout",
     "output_type": "stream",
     "text": [
      "[ Valid | 024/1000 ] loss = 0.00412, acc = 0.99554\n"
     ]
    },
    {
     "name": "stderr",
     "output_type": "stream",
     "text": [
      "100%|██████████| 39/39 [00:24<00:00,  1.60it/s]\n"
     ]
    },
    {
     "name": "stdout",
     "output_type": "stream",
     "text": [
      "[ Train | 025/1000 ] loss = 0.03527, acc = 0.98878\n"
     ]
    },
    {
     "name": "stderr",
     "output_type": "stream",
     "text": [
      "100%|██████████| 7/7 [00:08<00:00,  1.23s/it]\n"
     ]
    },
    {
     "name": "stdout",
     "output_type": "stream",
     "text": [
      "[ Valid | 025/1000 ] loss = 0.03495, acc = 0.99554\n"
     ]
    },
    {
     "name": "stderr",
     "output_type": "stream",
     "text": [
      "100%|██████████| 39/39 [00:24<00:00,  1.60it/s]\n"
     ]
    },
    {
     "name": "stdout",
     "output_type": "stream",
     "text": [
      "[ Train | 026/1000 ] loss = 0.02478, acc = 0.99279\n"
     ]
    },
    {
     "name": "stderr",
     "output_type": "stream",
     "text": [
      "100%|██████████| 7/7 [00:08<00:00,  1.23s/it]\n"
     ]
    },
    {
     "name": "stdout",
     "output_type": "stream",
     "text": [
      "[ Valid | 026/1000 ] loss = 0.02708, acc = 0.99107\n"
     ]
    },
    {
     "name": "stderr",
     "output_type": "stream",
     "text": [
      "100%|██████████| 39/39 [00:24<00:00,  1.60it/s]\n"
     ]
    },
    {
     "name": "stdout",
     "output_type": "stream",
     "text": [
      "[ Train | 027/1000 ] loss = 0.01822, acc = 0.99519\n"
     ]
    },
    {
     "name": "stderr",
     "output_type": "stream",
     "text": [
      "100%|██████████| 7/7 [00:08<00:00,  1.23s/it]\n"
     ]
    },
    {
     "name": "stdout",
     "output_type": "stream",
     "text": [
      "[ Valid | 027/1000 ] loss = 0.03806, acc = 0.99405\n"
     ]
    },
    {
     "name": "stderr",
     "output_type": "stream",
     "text": [
      "100%|██████████| 39/39 [00:24<00:00,  1.60it/s]\n"
     ]
    },
    {
     "name": "stdout",
     "output_type": "stream",
     "text": [
      "[ Train | 028/1000 ] loss = 0.00590, acc = 0.99920\n"
     ]
    },
    {
     "name": "stderr",
     "output_type": "stream",
     "text": [
      "100%|██████████| 7/7 [00:08<00:00,  1.23s/it]"
     ]
    },
    {
     "name": "stdout",
     "output_type": "stream",
     "text": [
      "[ Valid | 028/1000 ] loss = 0.07024, acc = 0.99107\n"
     ]
    },
    {
     "name": "stderr",
     "output_type": "stream",
     "text": [
      "\n"
     ]
    }
   ],
   "source": [
    "# For the classification task, we use cross-entropy as the measurement of performance.\n",
    "criterion = nn.CrossEntropyLoss()\n",
    "\n",
    "# Initialize optimizer\n",
    "optimizer = torch.optim.Adam(model.parameters(), lr=0.0003, weight_decay=1e-3)\n",
    "\n",
    "# The number of training epochs.\n",
    "n_epochs = 1000\n",
    "\n",
    "# The tolerance epoch when model do not preform better\n",
    "best_acc, best_epoch,best_loss = 0, 0 ,999\n",
    "\n",
    "do_earlyStop = True\n",
    "earlyStop_epochs = 10\n",
    "nonImprove_epochs = 0\n",
    "\n",
    "# Whether to do semi-supervised learning.\n",
    "do_semi = False\n",
    "\n",
    "# plot history\n",
    "acc_history = {'train':[], 'dev':[]}\n",
    "loss_history = {'train':[], 'dev':[]}\n",
    "\n",
    "for epoch in range(n_epochs):\n",
    "    # ---------- TODO ----------\n",
    "    # In each epoch, relabel the unlabeled dataset for semi-supervised learning.\n",
    "    # Then you can combine the labeled dataset and pseudo-labeled dataset for the training.\n",
    "    \n",
    "    # if do_semi:\n",
    "    #     # # use line_profiler to analyze the bottleneck\n",
    "    #     # lprofiler = LineProfiler(get_pseudo_labels)\n",
    "    #     # pseudo_set = lprofiler.runcall(get_pseudo_labels, unlabeled_set, model)\n",
    "    #     # lprofiler.print_stats()\n",
    "\n",
    "    #     # Obtain pseudo-labels for unlabeled data using trained model.\n",
    "    #     pseudo_set = get_pseudo_labels(model, unlabeled_set, test_set_semi)\n",
    "\n",
    "    #     if pseudo_set != None:\n",
    "    #         # Construct a new dataset and a data loader for training.\n",
    "    #         # This is used in semi-supervised learning only.\n",
    "    #         concat_dataset = ConcatDataset([train_set, pseudo_set])\n",
    "    #         train_loader = DataLoader(concat_dataset, batch_size=batch_size, shuffle=True, num_workers=8, pin_memory=True)\n",
    "\n",
    "    # ---------- Training ----------\n",
    "    # Make sure the model is in train mode before training.\n",
    "    model.train()\n",
    "\n",
    "    # These are used to record information in training.\n",
    "    train_loss = []\n",
    "    train_accs = []\n",
    "\n",
    "    # Iterate the training set by batches.\n",
    "    for batch in tqdm(train_loader):\n",
    "\n",
    "        # A batch consists of image data and corresponding labels.\n",
    "        imgs, labels = batch\n",
    "\n",
    "        # Forward the data. (Make sure data and model are on the same device.)\n",
    "        logits = model(imgs.to(device))\n",
    "\n",
    "        # Calculate the cross-entropy loss.\n",
    "        # We don't need to apply softmax before computing cross-entropy as it is done automatically.\n",
    "        loss = criterion(logits, labels.to(device))\n",
    "\n",
    "        # Gradients stored in the parameters in the previous step should be cleared out first.\n",
    "        optimizer.zero_grad()\n",
    "\n",
    "        # Compute the gradients for parameters.\n",
    "        loss.backward()\n",
    "\n",
    "        # Clip the gradient norms for stable training.\n",
    "        grad_norm = nn.utils.clip_grad_norm_(model.parameters(), max_norm=10)\n",
    "\n",
    "        # Update the parameters with computed gradients.\n",
    "        optimizer.step()\n",
    "\n",
    "        # Compute the accuracy for current batch.\n",
    "        acc = (logits.argmax(dim=-1) == labels.to(device)).float().mean()\n",
    "\n",
    "        # Record the loss and accuracy.\n",
    "        train_loss.append(loss.item())\n",
    "        train_accs.append(acc)\n",
    "\n",
    "    # The average loss and accuracy of the training set is the average of the recorded values.\n",
    "    train_loss = sum(train_loss) / len(train_loss)\n",
    "    train_acc = sum(train_accs) / len(train_accs)\n",
    "\n",
    "    # append on history\n",
    "    acc_history['train'].append(train_acc)\n",
    "    loss_history['train'].append(train_loss)\n",
    "\n",
    "    # Print the information.\n",
    "    print(f\"[ Train | {epoch + 1:03d}/{n_epochs:03d} ] loss = {train_loss:.5f}, acc = {train_acc:.5f}\")\n",
    "\n",
    "    # ---------- Validation ----------\n",
    "    # Make sure the model is in eval mode so that some modules like dropout are disabled and work normally.\n",
    "    model.eval()\n",
    "\n",
    "    # These are used to record information in validation.\n",
    "    valid_loss = []\n",
    "    valid_accs = []\n",
    "\n",
    "    # Iterate the validation set by batches.\n",
    "    for batch in tqdm(valid_loader):\n",
    "\n",
    "        # A batch consists of image data and corresponding labels.\n",
    "        imgs, labels = batch\n",
    "\n",
    "        # We don't need gradient in validation.\n",
    "        # Using torch.no_grad() accelerates the forward process.\n",
    "        with torch.no_grad():\n",
    "            logits = model(imgs.to(device))\n",
    "\n",
    "        # We can still compute the loss (but not the gradient).\n",
    "        loss = criterion(logits, labels.to(device))\n",
    "\n",
    "        # Compute the accuracy for current batch.\n",
    "        acc = (logits.argmax(dim=-1) == labels.to(device)).float().mean()\n",
    "\n",
    "        # Record the loss and accuracy.\n",
    "        valid_loss.append(loss.item())\n",
    "        valid_accs.append(acc)\n",
    "\n",
    "    # The average loss and accuracy for entire validation set is the average of the recorded values.\n",
    "    valid_loss = sum(valid_loss) / len(valid_loss)\n",
    "    valid_acc = sum(valid_accs) / len(valid_accs)\n",
    "\n",
    "    # append on history\n",
    "    acc_history['dev'].append(valid_acc)\n",
    "    loss_history['dev'].append(valid_loss)\n",
    "\n",
    "    # Print the information.\n",
    "    print(f\"[ Valid | {epoch + 1:03d}/{n_epochs:03d} ] loss = {valid_loss:.5f}, acc = {valid_acc:.5f}\")\n",
    "\n",
    "    # if the model improves, save a checkpoint at this epoch\n",
    "    if (valid_acc >= best_acc)&(valid_loss < best_loss):\n",
    "        best_acc = valid_acc\n",
    "        best_loss = valid_loss\n",
    "        best_epoch = epoch\n",
    "        torch.save(model.state_dict(), model_path)\n",
    "        print('saving model with acc {:.3f}'.format(valid_acc))\n",
    "        nonImprove_epochs = 0\n",
    "    else:\n",
    "        nonImprove_epochs += 1\n",
    "        \n",
    "    if do_earlyStop and nonImprove_epochs >= earlyStop_epochs:\n",
    "        # Stop training if your model stops improving for \"config['early_stop']\" epochs.\n",
    "        break"
   ]
  },
  {
   "cell_type": "markdown",
   "metadata": {},
   "source": [
    "# Training History"
   ]
  },
  {
   "cell_type": "markdown",
   "metadata": {},
   "source": [
    "## Training Curve"
   ]
  },
  {
   "cell_type": "code",
   "execution_count": 13,
   "metadata": {
    "ExecuteTime": {
     "end_time": "2022-12-07T10:53:28.157329Z",
     "start_time": "2022-12-07T10:53:28.138328Z"
    }
   },
   "outputs": [],
   "source": [
    "# Plotting Training Curve\n",
    "import matplotlib.pyplot as plt\n",
    "from matplotlib.pyplot import figure\n",
    "\n",
    "def plot_learning_curve(loss_record, annotated_epoch = None, title=''):\n",
    "    ''' Plot learning curve of your DNN (train & dev loss) '''\n",
    "    total_steps = len(loss_record['train'])\n",
    "    x_1 = range(total_steps)\n",
    "    x_2 = x_1# x_1[::len(loss_record['train']) // len(loss_record['dev'])]\n",
    "    figure(figsize=(6, 4))\n",
    "    plt.plot(x_1, loss_record['train'], c='tab:red', label='train')\n",
    "    plt.plot(x_2, loss_record['dev'], c='tab:cyan', label='dev')\n",
    "\n",
    "    if annotated_epoch != None:\n",
    "        plt.scatter(annotated_epoch, loss_record['train'][annotated_epoch], c='red')\n",
    "        plt.scatter(annotated_epoch, loss_record['dev'][annotated_epoch], c='red')\n",
    "    \n",
    "    plt.xlabel('Training epochs')\n",
    "    plt.ylabel('loss')\n",
    "    plt.title('Learning curve of {}'.format(title))\n",
    "    plt.legend()\n",
    "    plt.show()"
   ]
  },
  {
   "cell_type": "code",
   "execution_count": 14,
   "metadata": {
    "ExecuteTime": {
     "end_time": "2022-12-07T10:53:28.807886Z",
     "start_time": "2022-12-07T10:53:28.714886Z"
    }
   },
   "outputs": [
    {
     "data": {
      "image/png": "[encoded data removed]",
      "text/plain": [
       "<Figure size 600x400 with 1 Axes>"
      ]
     },
     "metadata": {},
     "output_type": "display_data"
    }
   ],
   "source": [
    "plot_learning_curve(loss_history, best_epoch)"
   ]
  },
  {
   "cell_type": "markdown",
   "metadata": {},
   "source": [
    "## Confusion Matrix"
   ]
  },
  {
   "cell_type": "code",
   "execution_count": 15,
   "metadata": {
    "ExecuteTime": {
     "end_time": "2022-12-07T10:53:43.962602Z",
     "start_time": "2022-12-07T10:53:34.820285Z"
    }
   },
   "outputs": [],
   "source": [
    "# create model and load weights from checkpoint\n",
    "# model = Classifier().to(device)\n",
    "model.load_state_dict(torch.load(model_path))\n",
    "\n",
    "# \n",
    "# getting confusion matrix on valid set\n",
    "prediction, ground_truth = [], []\n",
    "model.eval()\n",
    "with torch.no_grad():\n",
    "    for i, (data, ans) in enumerate(valid_loader):\n",
    "        test_pred = model(data.cuda())\n",
    "        test_label = np.argmax(test_pred.cpu().data.numpy(), axis=1)\n",
    "        for y, gt in zip(test_label, ans):\n",
    "            prediction.append(y)\n",
    "            ground_truth.append(gt.cpu().item())"
   ]
  },
  {
   "cell_type": "code",
   "execution_count": 16,
   "metadata": {
    "ExecuteTime": {
     "end_time": "2022-12-07T10:53:44.488629Z",
     "start_time": "2022-12-07T10:53:43.964601Z"
    },
    "scrolled": true
   },
   "outputs": [
    {
     "data": {
      "text/plain": [
       "Text(0, 0.5, 'true label')"
      ]
     },
     "execution_count": 16,
     "metadata": {},
     "output_type": "execute_result"
    },
    {
     "data": {
      "image/png": "[encoded data removed]",
      "text/plain": [
       "<Figure size 600x600 with 1 Axes>"
      ]
     },
     "metadata": {},
     "output_type": "display_data"
    }
   ],
   "source": [
    "from sklearn.metrics import confusion_matrix\n",
    "\n",
    "confmat = confusion_matrix(y_true=ground_truth, y_pred=prediction, normalize='true')\n",
    "confmat = np.round(confmat, decimals = 3)\n",
    "\n",
    "fig, ax = plt.subplots(figsize=(6, 6))\n",
    "ax.matshow(confmat, cmap=plt.cm.Blues, alpha=0.3)\n",
    "for i in range(confmat.shape[0]):\n",
    "    for j in range(confmat.shape[1]):\n",
    "        ax.text(x=j, y=i, s=confmat[i,j], va='center', ha='center', fontsize = 8)\n",
    "\n",
    "plt.xticks(size = 8)\n",
    "plt.yticks(size = 8)\n",
    "plt.xlabel('predicted label', fontsize = 8)        \n",
    "plt.ylabel('true label', fontsize =8)"
   ]
  },
  {
   "cell_type": "markdown",
   "metadata": {},
   "source": [
    "# Testing"
   ]
  },
  {
   "cell_type": "code",
   "execution_count": 17,
   "metadata": {
    "ExecuteTime": {
     "end_time": "2022-12-07T10:53:49.513897Z",
     "start_time": "2022-12-07T10:53:49.387741Z"
    }
   },
   "outputs": [
    {
     "data": {
      "text/plain": [
       "<All keys matched successfully>"
      ]
     },
     "execution_count": 17,
     "metadata": {},
     "output_type": "execute_result"
    }
   ],
   "source": [
    "model.load_state_dict(torch.load(model_path))"
   ]
  },
  {
   "cell_type": "code",
   "execution_count": 18,
   "metadata": {
    "ExecuteTime": {
     "end_time": "2022-12-07T10:53:49.688014Z",
     "start_time": "2022-12-07T10:53:49.671014Z"
    }
   },
   "outputs": [
    {
     "data": {
      "text/plain": [
       "['crazing',\n",
       " 'inclusion',\n",
       " 'patches',\n",
       " 'pitted_surface',\n",
       " 'rolled-in_scale',\n",
       " 'scratches']"
      ]
     },
     "execution_count": 18,
     "metadata": {},
     "output_type": "execute_result"
    }
   ],
   "source": [
    "train_set.classes"
   ]
  },
  {
   "cell_type": "code",
   "execution_count": 19,
   "metadata": {
    "ExecuteTime": {
     "end_time": "2022-12-07T10:53:56.173215Z",
     "start_time": "2022-12-07T10:53:50.032019Z"
    }
   },
   "outputs": [
    {
     "name": "stdout",
     "output_type": "stream",
     "text": [
      "Predict finished\n"
     ]
    }
   ],
   "source": [
    "correct = 0\n",
    "total = 0\n",
    "res = []\n",
    "# since we're not training, we don't need to calculate the gradients for our outputs\n",
    "with torch.no_grad():\n",
    "    for i in range(360):\n",
    "        tpath = os.path.join(test_dir+'/',str(i)+'.jpg')\n",
    "        fopen = Image.open(tpath)\n",
    "        image = test_tfm(fopen)\n",
    "        image = image.unsqueeze(0)\n",
    "        # calculate outputs by running images through the network\n",
    "        # images, labels = data\n",
    "#         image = image.unsqueeze(0)\n",
    "        outputs = model(image.to(device))\n",
    "        # the class with the highest energy is what we choose as prediction\n",
    "        _, predicted = torch.max(outputs.data, 1)\n",
    "        # you can modified the following code to show accuracy if you have split some validation set \n",
    "        # total += labels.size(0)\n",
    "        # correct += (predicted == labels).sum().item()\n",
    "        # print('Predicted: ', ' '.join(f'{train_data.classes[predicted[j]]:5s}'\n",
    "        #                        for j in range(len(predicted))))\n",
    "        for j in range(len(predicted)):\n",
    "            res.append(str(train_set.classes[predicted[j]]))\n",
    "print('Predict finished')\n",
    "# print(f'Accuracy of the network on the {total} test images: {100 * correct // total} %')"
   ]
  },
  {
   "cell_type": "code",
   "execution_count": 20,
   "metadata": {
    "ExecuteTime": {
     "end_time": "2022-12-07T10:53:56.189214Z",
     "start_time": "2022-12-07T10:53:56.174214Z"
    },
    "id": "9mgGOcD-YveC"
   },
   "outputs": [],
   "source": [
    "df_ans = pd.DataFrame(res, columns=['Category'])\n",
    "df_ans.to_csv('./mySubmission.csv', index_label='Id')"
   ]
  },
  {
   "cell_type": "code",
   "execution_count": null,
   "metadata": {},
   "outputs": [],
   "source": []
  }
 ],
 "metadata": {
  "accelerator": "GPU",
  "colab": {
   "collapsed_sections": [],
   "provenance": []
  },
  "gpuClass": "standard",
  "kernelspec": {
   "display_name": "Python 3 (ipykernel)",
   "language": "python",
   "name": "python3"
  },
  "language_info": {
   "codemirror_mode": {
    "name": "ipython",
    "version": 3
   },
   "file_extension": ".py",
   "mimetype": "text/x-python",
   "name": "python",
   "nbconvert_exporter": "python",
   "pygments_lexer": "ipython3",
   "version": "3.9.13"
  },
  "toc": {
   "base_numbering": 1,
   "nav_menu": {},
   "number_sections": true,
   "sideBar": true,
   "skip_h1_title": false,
   "title_cell": "Table of Contents",
   "title_sidebar": "Contents",
   "toc_cell": false,
   "toc_position": {
    "height": "calc(100% - 180px)",
    "left": "10px",
    "top": "150px",
    "width": "195.2px"
   },
   "toc_section_display": true,
   "toc_window_display": true
  }
 },
 "nbformat": 4,
 "nbformat_minor": 1
}
